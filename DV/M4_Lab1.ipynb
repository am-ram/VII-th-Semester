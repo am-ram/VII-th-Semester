{
  "nbformat": 4,
  "nbformat_minor": 0,
  "metadata": {
    "colab": {
      "name": "M4_Lab1.ipynb",
      "provenance": [],
      "collapsed_sections": []
    },
    "kernelspec": {
      "name": "python3",
      "display_name": "Python 3"
    }
  },
  "cells": [
    {
      "cell_type": "markdown",
      "metadata": {
        "id": "pl376Q2PyEQs"
      },
      "source": [
        "# **Overview**\n",
        "* Geospatial analysis is taking on an ever more important role in the industry\n",
        "* The Folium library in Python helps us analyze the location and geospatial data with ease and lets us create interactive maps"
      ]
    },
    {
      "cell_type": "markdown",
      "metadata": {
        "id": "umfb_uh4yLVF"
      },
      "source": [
        "## What is Folium?\n",
        "Folium is a Python library used for visualizing geospatial data. It is easy to use and yet a powerful library. Folium is a Python wrapper for Leaflet.js which is a leading open-source JavaScript library for plotting interactive maps.\n",
        "\n",
        "* It has the power of Leaflet.js and the simplicity of Python, which makes it an excellent tool for plotting maps. \n",
        "* Folium is designed with simplicity, performance, and usability in mind. \n",
        "* It works efficiently, can be extended with a lot of plugins, has a beautiful and easy-to-use API.\n",
        "\n",
        "**To know more about Folium & Leaflet.js click the below link**\n",
        "\n",
        "* [Folium](https://python-visualization.github.io/folium/index.html)\n",
        "* [Leaflet.js](https://leafletjs.com/)\n",
        "\n",
        "\n"
      ]
    },
    {
      "cell_type": "markdown",
      "metadata": {
        "id": "wU9WFLMLzEsg"
      },
      "source": [
        "## **Plotting Maps with Folium**\n",
        "* Plotting maps with Folium is easier than you think. Folium provides the folium.\n",
        "* Map() class which takes location parameter in terms of latitude and longitude and generates a map around it. \n",
        "* So, let’s plot a map of Bengaluru with latitude and longitude as 12.983377 and 77.594167 respectively:"
      ]
    },
    {
      "cell_type": "code",
      "metadata": {
        "id": "UWVHzhc6yoP8",
        "outputId": "f4b7ac0d-2f59-47dc-aded-0e10a885b2d3",
        "colab": {
          "base_uri": "https://localhost:8080/",
          "height": 763
        }
      },
      "source": [
        "import folium\n",
        "m=folium.Map(location=[12.983377, 77.594167])\n",
        "m"
      ],
      "execution_count": 8,
      "outputs": [
        {
          "output_type": "execute_result",
          "data": {
            "text/html": [
              "<div style=\"width:100%;\"><div style=\"position:relative;width:100%;height:0;padding-bottom:60%;\"><span style=\"color:#565656\">Make this Notebook Trusted to load map: File -> Trust Notebook</span><iframe src=\"about:blank\" style=\"position:absolute;width:100%;height:100%;left:0;top:0;border:none !important;\" data-html=PCFET0NUWVBFIGh0bWw+CjxoZWFkPiAgICAKICAgIDxtZXRhIGh0dHAtZXF1aXY9ImNvbnRlbnQtdHlwZSIgY29udGVudD0idGV4dC9odG1sOyBjaGFyc2V0PVVURi04IiAvPgogICAgPHNjcmlwdD5MX1BSRUZFUl9DQU5WQVM9ZmFsc2U7IExfTk9fVE9VQ0g9ZmFsc2U7IExfRElTQUJMRV8zRD1mYWxzZTs8L3NjcmlwdD4KICAgIDxzY3JpcHQgc3JjPSJodHRwczovL2Nkbi5qc2RlbGl2ci5uZXQvbnBtL2xlYWZsZXRAMS40LjAvZGlzdC9sZWFmbGV0LmpzIj48L3NjcmlwdD4KICAgIDxzY3JpcHQgc3JjPSJodHRwczovL2NvZGUuanF1ZXJ5LmNvbS9qcXVlcnktMS4xMi40Lm1pbi5qcyI+PC9zY3JpcHQ+CiAgICA8c2NyaXB0IHNyYz0iaHR0cHM6Ly9tYXhjZG4uYm9vdHN0cmFwY2RuLmNvbS9ib290c3RyYXAvMy4yLjAvanMvYm9vdHN0cmFwLm1pbi5qcyI+PC9zY3JpcHQ+CiAgICA8c2NyaXB0IHNyYz0iaHR0cHM6Ly9jZG5qcy5jbG91ZGZsYXJlLmNvbS9hamF4L2xpYnMvTGVhZmxldC5hd2Vzb21lLW1hcmtlcnMvMi4wLjIvbGVhZmxldC5hd2Vzb21lLW1hcmtlcnMuanMiPjwvc2NyaXB0PgogICAgPGxpbmsgcmVsPSJzdHlsZXNoZWV0IiBocmVmPSJodHRwczovL2Nkbi5qc2RlbGl2ci5uZXQvbnBtL2xlYWZsZXRAMS40LjAvZGlzdC9sZWFmbGV0LmNzcyIvPgogICAgPGxpbmsgcmVsPSJzdHlsZXNoZWV0IiBocmVmPSJodHRwczovL21heGNkbi5ib290c3RyYXBjZG4uY29tL2Jvb3RzdHJhcC8zLjIuMC9jc3MvYm9vdHN0cmFwLm1pbi5jc3MiLz4KICAgIDxsaW5rIHJlbD0ic3R5bGVzaGVldCIgaHJlZj0iaHR0cHM6Ly9tYXhjZG4uYm9vdHN0cmFwY2RuLmNvbS9ib290c3RyYXAvMy4yLjAvY3NzL2Jvb3RzdHJhcC10aGVtZS5taW4uY3NzIi8+CiAgICA8bGluayByZWw9InN0eWxlc2hlZXQiIGhyZWY9Imh0dHBzOi8vbWF4Y2RuLmJvb3RzdHJhcGNkbi5jb20vZm9udC1hd2Vzb21lLzQuNi4zL2Nzcy9mb250LWF3ZXNvbWUubWluLmNzcyIvPgogICAgPGxpbmsgcmVsPSJzdHlsZXNoZWV0IiBocmVmPSJodHRwczovL2NkbmpzLmNsb3VkZmxhcmUuY29tL2FqYXgvbGlicy9MZWFmbGV0LmF3ZXNvbWUtbWFya2Vycy8yLjAuMi9sZWFmbGV0LmF3ZXNvbWUtbWFya2Vycy5jc3MiLz4KICAgIDxsaW5rIHJlbD0ic3R5bGVzaGVldCIgaHJlZj0iaHR0cHM6Ly9yYXdjZG4uZ2l0aGFjay5jb20vcHl0aG9uLXZpc3VhbGl6YXRpb24vZm9saXVtL21hc3Rlci9mb2xpdW0vdGVtcGxhdGVzL2xlYWZsZXQuYXdlc29tZS5yb3RhdGUuY3NzIi8+CiAgICA8c3R5bGU+aHRtbCwgYm9keSB7d2lkdGg6IDEwMCU7aGVpZ2h0OiAxMDAlO21hcmdpbjogMDtwYWRkaW5nOiAwO308L3N0eWxlPgogICAgPHN0eWxlPiNtYXAge3Bvc2l0aW9uOmFic29sdXRlO3RvcDowO2JvdHRvbTowO3JpZ2h0OjA7bGVmdDowO308L3N0eWxlPgogICAgCiAgICA8bWV0YSBuYW1lPSJ2aWV3cG9ydCIgY29udGVudD0id2lkdGg9ZGV2aWNlLXdpZHRoLAogICAgICAgIGluaXRpYWwtc2NhbGU9MS4wLCBtYXhpbXVtLXNjYWxlPTEuMCwgdXNlci1zY2FsYWJsZT1ubyIgLz4KICAgIDxzdHlsZT4jbWFwX2QxZWU2OWJhOGQ0ODQyMGE4NWIwYjdmYzQ1OTQxYTFhIHsKICAgICAgICBwb3NpdGlvbjogcmVsYXRpdmU7CiAgICAgICAgd2lkdGg6IDEwMC4wJTsKICAgICAgICBoZWlnaHQ6IDEwMC4wJTsKICAgICAgICBsZWZ0OiAwLjAlOwogICAgICAgIHRvcDogMC4wJTsKICAgICAgICB9CiAgICA8L3N0eWxlPgo8L2hlYWQ+Cjxib2R5PiAgICAKICAgIAogICAgPGRpdiBjbGFzcz0iZm9saXVtLW1hcCIgaWQ9Im1hcF9kMWVlNjliYThkNDg0MjBhODViMGI3ZmM0NTk0MWExYSIgPjwvZGl2Pgo8L2JvZHk+CjxzY3JpcHQ+ICAgIAogICAgCiAgICAKICAgICAgICB2YXIgYm91bmRzID0gbnVsbDsKICAgIAoKICAgIHZhciBtYXBfZDFlZTY5YmE4ZDQ4NDIwYTg1YjBiN2ZjNDU5NDFhMWEgPSBMLm1hcCgKICAgICAgICAnbWFwX2QxZWU2OWJhOGQ0ODQyMGE4NWIwYjdmYzQ1OTQxYTFhJywgewogICAgICAgIGNlbnRlcjogWzEyLjk4MzM3NywgNzcuNTk0MTY3XSwKICAgICAgICB6b29tOiAxMCwKICAgICAgICBtYXhCb3VuZHM6IGJvdW5kcywKICAgICAgICBsYXllcnM6IFtdLAogICAgICAgIHdvcmxkQ29weUp1bXA6IGZhbHNlLAogICAgICAgIGNyczogTC5DUlMuRVBTRzM4NTcsCiAgICAgICAgem9vbUNvbnRyb2w6IHRydWUsCiAgICAgICAgfSk7CgoKICAgIAogICAgdmFyIHRpbGVfbGF5ZXJfYjgxM2MzODFiYTJiNDRmMjgyMjA3MTkwMDRhODdhNjYgPSBMLnRpbGVMYXllcigKICAgICAgICAnaHR0cHM6Ly97c30udGlsZS5vcGVuc3RyZWV0bWFwLm9yZy97en0ve3h9L3t5fS5wbmcnLAogICAgICAgIHsKICAgICAgICAiYXR0cmlidXRpb24iOiBudWxsLAogICAgICAgICJkZXRlY3RSZXRpbmEiOiBmYWxzZSwKICAgICAgICAibWF4TmF0aXZlWm9vbSI6IDE4LAogICAgICAgICJtYXhab29tIjogMTgsCiAgICAgICAgIm1pblpvb20iOiAwLAogICAgICAgICJub1dyYXAiOiBmYWxzZSwKICAgICAgICAib3BhY2l0eSI6IDEsCiAgICAgICAgInN1YmRvbWFpbnMiOiAiYWJjIiwKICAgICAgICAidG1zIjogZmFsc2UKfSkuYWRkVG8obWFwX2QxZWU2OWJhOGQ0ODQyMGE4NWIwYjdmYzQ1OTQxYTFhKTsKPC9zY3JpcHQ+ onload=\"this.contentDocument.open();this.contentDocument.write(atob(this.getAttribute('data-html')));this.contentDocument.close();\" allowfullscreen webkitallowfullscreen mozallowfullscreen></iframe></div></div>"
            ],
            "text/plain": [
              "<folium.folium.Map at 0x7ffaaf04e8d0>"
            ]
          },
          "metadata": {
            "tags": []
          },
          "execution_count": 8
        }
      ]
    },
    {
      "cell_type": "markdown",
      "metadata": {
        "id": "RbAsPGOk0xGc"
      },
      "source": [
        "You can see that these maps are interactive. You can zoom in and out by clicking the positive and negative buttons in the top-left corner of the map. You can also drag the map and see different regions.\n",
        "\n",
        "Let’s try to customize this map now. First, we’ll reduce the height and width of the map, and then we’ll change the zoom level.\n",
        "\n",
        "We can resize our map by using the [branca](https://github.com/python-visualization/branca) library in Python. It is a spinoff from Folium that hosts the non-map specific features. We can use its Figure class for resizing our maps and pass the desired width and height in pixels:"
      ]
    },
    {
      "cell_type": "code",
      "metadata": {
        "id": "H6-WYI1l0446"
      },
      "source": [
        "from branca.element import Figure\n",
        "fig=Figure(width=550,height=350)"
      ],
      "execution_count": 9,
      "outputs": []
    },
    {
      "cell_type": "markdown",
      "metadata": {
        "id": "cV0WDEHi1CYY"
      },
      "source": [
        "* Next, let’s move to our second problem and change the zoom level. \n",
        "\n",
        "* By default, you can zoom in and out as much as you want. Also, the starting zoom level is fixed to 10 (the map is plotted with a 10x zoom). \n",
        "\n",
        "* Now, you might be thinking – how can this be a problem?\n",
        "\n",
        "* Well, imagine you want to plot a map of a small area. Here, you need to mention the appropriate starting zoom level so that the map focuses only on that region. \n",
        "* Also, if you don’t want them to zoom in or out much and lose focus on the map, then you can restrict it. \n",
        "\n",
        "* For doing this, Folium gives us three parameters – zoom_start, min_zoom, and max_zoom.\n",
        "\n",
        "* So, let us again plot the map of Bengaluru but this time of fixed size and with a restricted zoom level:"
      ]
    },
    {
      "cell_type": "code",
      "metadata": {
        "id": "D0GHh0481C2W",
        "outputId": "ef3785b7-70db-4bf3-8b11-84d560ad1247",
        "colab": {
          "base_uri": "https://localhost:8080/",
          "height": 371
        }
      },
      "source": [
        "m1=folium.Map(width=550,height=350,location=[12.983377, 77.594167],zoom_start=11,min_zoom=8,max_zoom=14)\n",
        "fig.add_child(m1)\n",
        "m1"
      ],
      "execution_count": 10,
      "outputs": [
        {
          "output_type": "execute_result",
          "data": {
            "text/html": [
              "<iframe src=\"about:blank\" width=\"550\" height=\"350\"style=\"border:none !important;\" data-html=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 onload=\"this.contentDocument.open();this.contentDocument.write(atob(this.getAttribute('data-html')));this.contentDocument.close();\" \"allowfullscreen\" \"webkitallowfullscreen\" \"mozallowfullscreen\"></iframe>"
            ],
            "text/plain": [
              "<folium.folium.Map at 0x7ffaaeff6160>"
            ]
          },
          "metadata": {
            "tags": []
          },
          "execution_count": 10
        }
      ]
    },
    {
      "cell_type": "markdown",
      "metadata": {
        "id": "NPm05zsw2WIx"
      },
      "source": [
        "## **Layers and Tiles in Folium**\n",
        "\n",
        "A tileset is a collection of raster and vector data broken up into a uniform grid of square tiles. Each tileset has a different way of representing data in the map. Folium allows us to create maps with different tiles like Stamen Terrain, Stamen Toner, Stamen Water Color, CartoDB Positron, and many more. By default, the tiles are set to OpenStreetMap.\n",
        "\n",
        "Each tileset shows different features of a map and is suitable for different purposes. For example, Stamen Terrain features hill shading and natural vegetation colors. It showcases advanced labeling and linework generalization of dual-carriageway roads. And, CartoDB Dark Matter shows the CartoDB Positron map in dark mode.\n",
        "\n",
        "Since now we know that each tileset provides information in a different way and serves a different purpose, we can layer them over one another to get more information by just plotting a single map. We can do this by adding different layers of tiles to a single map:"
      ]
    },
    {
      "cell_type": "code",
      "metadata": {
        "id": "4wEw6K8e2kX6",
        "outputId": "e431d4e6-8319-45e1-c24a-7812bb85cefd",
        "colab": {
          "base_uri": "https://localhost:8080/",
          "height": 371
        }
      },
      "source": [
        "fig2=Figure(width=550,height=350)\n",
        "m2=folium.Map(location=[12.983377, 77.594167])\n",
        "fig2.add_child(m2)\n",
        "folium.TileLayer('Stamen Terrain').add_to(m2)\n",
        "folium.TileLayer('Stamen Toner').add_to(m2)\n",
        "folium.TileLayer('Stamen Water Color').add_to(m2)\n",
        "folium.TileLayer('cartodbpositron').add_to(m2)\n",
        "folium.TileLayer('cartodbdark_matter').add_to(m2)\n",
        "folium.LayerControl().add_to(m2)\n",
        "m2"
      ],
      "execution_count": 11,
      "outputs": [
        {
          "output_type": "execute_result",
          "data": {
            "text/html": [
              "<iframe src=\"about:blank\" width=\"550\" height=\"350\"style=\"border:none !important;\" data-html=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 onload=\"this.contentDocument.open();this.contentDocument.write(atob(this.getAttribute('data-html')));this.contentDocument.close();\" \"allowfullscreen\" \"webkitallowfullscreen\" \"mozallowfullscreen\"></iframe>"
            ],
            "text/plain": [
              "<folium.folium.Map at 0x7ffab00a0710>"
            ]
          },
          "metadata": {
            "tags": []
          },
          "execution_count": 11
        }
      ]
    },
    {
      "cell_type": "markdown",
      "metadata": {
        "id": "deRltjcK24vm"
      },
      "source": [
        "Here, you can see that I have added five different tile layers to a single map and now I have 6 different layers of tilesets. I have also added **LayerControl()** to the map which provides an icon on the top-right corner of the map for switching between the different layers.\n",
        "\n",
        "We can also layer other objects over a single map. Later in this article, we’ll layer paths of three different vehicles on a single map."
      ]
    },
    {
      "cell_type": "markdown",
      "metadata": {
        "id": "PH6syuKo3AWj"
      },
      "source": [
        "## **Plotting Markers on the Map**\n",
        "Markers are the items used for marking a location on a map. For example, when you use Google Maps for navigation, your location is marked by a marker and your destination is marked by another marker.** Markers are among the most important and helpful things on a map.**\n",
        "\n",
        "Folium gives a **folium.Marker()** class for plotting markers on a map. Just pass the latitude and longitude of the location, mention the popup and tooltip and add it to the map.\n",
        "\n",
        "Plotting markers is a two-step process. First, you need to create a base map on which your markers will be placed, and then add your markers to it:"
      ]
    },
    {
      "cell_type": "code",
      "metadata": {
        "id": "uTebMLE427W_",
        "outputId": "5fda87bd-4717-40cc-b8fa-4f6b5b87dcf3",
        "colab": {
          "base_uri": "https://localhost:8080/",
          "height": 371
        }
      },
      "source": [
        "\n",
        "# Creating Basemap\n",
        "fig3=Figure(width=550,height=350)\n",
        "m3=folium.Map(location=[12.983377, 77.594167],tiles='cartodbpositron',zoom_start=11)\n",
        "fig3.add_child(m3)\n",
        "\n",
        "#Adding markers to the map\n",
        "folium.Marker(location=[13.176529, 77.535911],popup='Presidency University',tooltip='Click here to see Popup').add_to(m3)\n",
        "folium.Marker(location=[13.116888, 77.606788],popup='<strong>Yelahanka</strong>',tooltip='<strong>Click here to see Popup</strong>').add_to(m3)\n",
        "folium.Marker(location=[12.980797, 77.648959],popup='<h3 style=\"color:green;\">Indra Nagar</h3>',tooltip='<strong>Click here to see Popup</strong>').add_to(m3)\n",
        "\n",
        "m3"
      ],
      "execution_count": 13,
      "outputs": [
        {
          "output_type": "execute_result",
          "data": {
            "text/html": [
              "<iframe src=\"about:blank\" width=\"550\" height=\"350\"style=\"border:none !important;\" data-html=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 onload=\"this.contentDocument.open();this.contentDocument.write(atob(this.getAttribute('data-html')));this.contentDocument.close();\" \"allowfullscreen\" \"webkitallowfullscreen\" \"mozallowfullscreen\"></iframe>"
            ],
            "text/plain": [
              "<folium.folium.Map at 0x7ffaaefae7f0>"
            ]
          },
          "metadata": {
            "tags": []
          },
          "execution_count": 13
        }
      ]
    },
    {
      "cell_type": "markdown",
      "metadata": {
        "id": "P36sEMDa4N8v"
      },
      "source": [
        "Here, I have created three markers on the map of Delhi. The text when you hover over a marker is known as tooltip and the content when you click on a marker is known as a popup. If you look closely here, I have customized tooltips and popups of markers 2 and 3. You can also customize them according to your needs by passing the content as HTML to the class.\n",
        "\n",
        "Now, normally when we book a ride on Uber or order food from Zomato, we see very different and beautiful markers. How can we create something like that?\n",
        "\n",
        "There are two things that you can customize to change the appearance of a marker. First, you can change the icon of the marker, and second, you can change the shape of the marker. Folium gives the **folium.Icon()** class which can be used for creating custom icons for markers. You can choose icons from a wide range of options.\n",
        "\n",
        "Icon() takes three arguments – color, prefix and icon. Color is used for changing the color of the marker, the prefix is used for selecting the icon provider (fa for Fontawesome and glyphicon for Glyphicons), and the icon is used for selecting the icon name.\n",
        "\n",
        "Now, let’s learn how you can change the shape of the marker. Folium has the folium.features.CustomIcon() class that can be used for creating custom markers. It takes the path of the image and icon size in pixels as arguments and creates an icon object. This icon object can be passed to the **folium.Icon()** class as an icon for creating custom markers:\n",
        "\n"
      ]
    },
    {
      "cell_type": "code",
      "metadata": {
        "id": "ncQ1Tdtv4mpn",
        "outputId": "4402e782-2c0e-4cd1-e856-80d31b3bf9e0",
        "colab": {
          "base_uri": "https://localhost:8080/",
          "height": 371
        }
      },
      "source": [
        "# Creating Basemap\n",
        "fig4=Figure(height=350,width=550)\n",
        "m4=folium.Map(location=[12.983377, 77.594167],tiles='cartodbpositron',zoom_start=11)\n",
        "fig4.add_child(m4)\n",
        "\n",
        "# Adding Custom Markers\n",
        "folium.Marker(location=[13.176529, 77.535911],popup='Custom Marker 1',tooltip='<strong>Click here to see Popup</strong>',icon=folium.Icon(color='red',icon='none')).add_to(m4)\n",
        "folium.Marker(location=[13.116888, 77.606788],popup='Custom Marker 2',tooltip='<strong>Click here to see Popup</strong>',icon=folium.Icon(color='green',prefix='glyphicon',icon='off')).add_to(m4)\n",
        "folium.Marker(location=[12.980797, 77.648959],popup='Custom Marker 3',tooltip='<strong>Click here to see Popup</strong>',icon=folium.Icon(color='purple',prefix='fa',icon='anchor')).add_to(m4)\n",
        "#icon=folium.features.CustomIcon('av.png',icon_size=(50,50)))  for custom icon\n",
        "\n",
        "m4"
      ],
      "execution_count": 18,
      "outputs": [
        {
          "output_type": "execute_result",
          "data": {
            "text/html": [
              "<iframe src=\"about:blank\" width=\"550\" height=\"350\"style=\"border:none !important;\" data-html=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 onload=\"this.contentDocument.open();this.contentDocument.write(atob(this.getAttribute('data-html')));this.contentDocument.close();\" \"allowfullscreen\" \"webkitallowfullscreen\" \"mozallowfullscreen\"></iframe>"
            ],
            "text/plain": [
              "<folium.folium.Map at 0x7ffaaeecb470>"
            ]
          },
          "metadata": {
            "tags": []
          },
          "execution_count": 18
        }
      ]
    },
    {
      "cell_type": "markdown",
      "metadata": {
        "id": "-ibQs3LZ59Zz"
      },
      "source": [
        "### **Plotting Paths using Folium**\n",
        "As I said earlier, we’ll plot the path of 3 vehicles on the map. We have three arrays for three vehicles containing latitudes and longitudes of their paths:"
      ]
    },
    {
      "cell_type": "code",
      "metadata": {
        "id": "TDA-6_jx6CrJ"
      },
      "source": [
        "coords_1=[[28.65685,77.21899],[28.65699,77.21898],[28.65699,77.21898],\n",
        "[28.65702,77.21875],[28.65702,77.21875],[28.6547,77.21902],[28.65308,77.21921],\n",
        "[28.65286,77.21926],[28.65255,77.21938],[28.65227,77.21954],[28.65152,77.22005],\n",
        "[28.64655,77.22346],[28.64643,77.22354],[28.64635,77.22357],[28.64623,77.2236],\n",
        "[28.64616,77.22363],[28.64612,77.22364],[28.64557,77.22364],[28.64525,77.22365],\n",
        "[28.64525,77.22365],[28.64517,77.22366],[28.64515,77.22367],[28.64512,77.22367],\n",
        "[28.64504,77.22369],[28.64493,77.22371],[28.64483,77.22373],[28.64462,77.22377],\n",
        "[28.6445,77.22381],[28.64444,77.22383],[28.64439,77.22387],[28.64434,77.2239],\n",
        "[28.64429,77.22395],[28.64421,77.22403],[28.64417,77.22412],[28.64407,77.22429],\n",
        "[28.64391,77.22465],[28.64353,77.22539],[28.64282,77.22678],[28.64282,77.22678],\n",
        "[28.64285,77.2268],[28.64287,77.22683],[28.64289,77.22686],[28.64291,77.2269],\n",
        "[28.64292,77.22694],[28.64292,77.22697],[28.64292,77.22701],[28.64292,77.22705],\n",
        "[28.64292,77.22705],[28.64291,77.22711],[28.64288,77.22716],[28.64285,77.2272],\n",
        "[28.64281,77.22724],[28.64276,77.22726],[28.64271,77.22728],[28.64266,77.22728],\n",
        "[28.64261,77.22727],[28.64261,77.22727],[28.64257,77.22725],[28.64254,77.22723],\n",
        "[28.64251,77.2272],[28.64249,77.22717],[28.64247,77.22713],[28.64245,77.22709],\n",
        "[28.64244,77.22704],[28.64244,77.22699],[28.64245,77.22693],[28.64246,77.22689],\n",
        "[28.64214,77.22665],[28.64169,77.22632],[28.64163,77.22627],[28.64095,77.22582],\n",
        "[28.64009,77.22516],[28.63913,77.22445],[28.63799,77.22352],[28.63794,77.22349],\n",
        "[28.63761,77.22327],[28.6375,77.2232],[28.63737,77.22311],[28.63727,77.22304],\n",
        "[28.63706,77.22288],[28.63631,77.22233],[28.63528,77.2216],[28.63521,77.22154],\n",
        "[28.63521,77.22154],[28.63518,77.22158],[28.63499,77.2218],[28.63471,77.22212],\n",
        "[28.63442,77.22238],[28.63411,77.2226],[28.6339,77.22272],[28.63368,77.22282],\n",
        "[28.63345,77.2229],[28.63313,77.22297],[28.63281,77.22299],[28.63249,77.22298],\n",
        "[28.63217,77.22293],[28.63186,77.22283],[28.63141,77.22256],[28.63125,77.2224],\n",
        "[28.63101,77.22227],[28.63082,77.22207],[28.63062,77.22185],[28.63046,77.22162],\n",
        "[28.63029,77.22141],[28.63029,77.22141],[28.63026,77.22138],[28.63022,77.22136],\n",
        "[28.63018,77.22135],[28.63014,77.22134],[28.6301,77.22134],[28.63006,77.22135],\n",
        "[28.63004,77.22135],[28.63004,77.22135]]\n",
        "\n",
        "coords_2=[[28.63382,77.22045],[28.63458,77.221],[28.63514,77.22142],\n",
        "[28.63517,77.22146],[28.63519,77.22151],[28.63518,77.22158],[28.63518,77.22158],\n",
        "[28.63499,77.2218],[28.63471,77.22212],[28.63442,77.22238],[28.63411,77.2226],\n",
        "[28.6339,77.22272],[28.63368,77.22282],[28.63345,77.2229],[28.63313,77.22297],\n",
        "[28.63281,77.22299],[28.63249,77.22298],[28.63217,77.22293],[28.63186,77.22283],\n",
        "[28.63141,77.22256],[28.63141,77.22256],[28.63129,77.22258],[28.63121,77.22259],\n",
        "[28.63113,77.22266],[28.63072,77.22335],[28.63063,77.22353],[28.63059,77.22359],\n",
        "[28.63046,77.22381],[28.63043,77.22388],[28.62914,77.22615],[28.62914,77.22615],\n",
        "[28.62922,77.22648],[28.62923,77.22651],[28.62924,77.22653],[28.62925,77.22655],\n",
        "[28.62926,77.22657],[28.62935,77.22665],[28.62937,77.22667],[28.62938,77.22669],\n",
        "[28.62939,77.22672],[28.62943,77.22682],[28.62943,77.22682],[28.62972,77.22701],\n",
        "[28.63027,77.22744],[28.63436,77.23048],[28.63456,77.2306],[28.63482,77.23072],\n",
        "[28.63511,77.23084],[28.63545,77.23091],[28.63581,77.23095],[28.63656,77.23101],\n",
        "[28.63673,77.23102],[28.63824,77.23116],[28.63985,77.23134],[28.64039,77.23144],\n",
        "[28.64039,77.23144],[28.64049,77.23147],[28.64038,77.23156],[28.64022,77.23153],\n",
        "[28.64022,77.23153]]\n",
        "\n",
        "coords_3=[[28.63216,77.21864],[28.63225,77.21858],[28.63237,77.21851],\n",
        "[28.6325,77.21846],[28.63262,77.21843],[28.63279,77.21841],[28.63295,77.21843],\n",
        "[28.63311,77.21846],[28.63326,77.21853],[28.63341,77.21862],[28.63341,77.21862],\n",
        "[28.63394,77.21768],[28.6342,77.21722],[28.63425,77.21713],[28.6343,77.21704],\n",
        "[28.6343,77.21704],[28.63432,77.21686],[28.63495,77.21581],[28.6357,77.21452],\n",
        "[28.63745,77.21151],[28.63951,77.20794],[28.63956,77.20787],[28.63971,77.20763],\n",
        "[28.64055,77.2061],[28.64096,77.20533],[28.64106,77.20519],[28.64121,77.20486],\n",
        "[28.64132,77.20468],[28.64179,77.20418],[28.64222,77.20381],[28.64254,77.20346],\n",
        "[28.64267,77.20333],[28.64277,77.2032],[28.64277,77.2032],[28.64281,77.20314],\n",
        "[28.64285,77.20309],[28.64291,77.20306],[28.64297,77.20304],[28.64303,77.20303],\n",
        "[28.64309,77.20304],[28.64315,77.20306],[28.6432,77.2031],[28.64324,77.20314],\n",
        "[28.64327,77.2032],[28.64327,77.2032],[28.64341,77.20336],[28.64375,77.20351],\n",
        "[28.64406,77.20367],[28.64495,77.20426],[28.6459,77.20495],[28.64612,77.2051],\n",
        "[28.64612,77.2051],[28.64629,77.2051],[28.64639,77.20508],[28.64648,77.20506],\n",
        "[28.64657,77.20497],[28.64659,77.20495],[28.64659,77.20495]]"
      ],
      "execution_count": 20,
      "outputs": []
    },
    {
      "cell_type": "markdown",
      "metadata": {
        "id": "b7f2VlkD6IpD"
      },
      "source": [
        "We’ll use these latitudes and longitudes to plot paths for the three vehicles.\n",
        "\n",
        "Here’s how we’ll do it:\n",
        "\n",
        "* Create a base map\n",
        "* Create a feature group for each vehicle\n",
        "* Then create paths and add them to the feature groups\n",
        "* Finally, add these feature groups and layer control to the map\n",
        "\n",
        "Let’s do it:"
      ]
    },
    {
      "cell_type": "code",
      "metadata": {
        "id": "3m9cPwCN6Ut7",
        "outputId": "23f074a7-12a2-42a5-8a9c-39e63aae6ab8",
        "colab": {
          "base_uri": "https://localhost:8080/",
          "height": 571
        }
      },
      "source": [
        "fig5=Figure(height=550,width=750)\n",
        "m5=folium.Map(location=[28.644800, 77.216721],tiles='cartodbpositron',zoom_start=14)\n",
        "fig5.add_child(m5)"
      ],
      "execution_count": 19,
      "outputs": [
        {
          "output_type": "execute_result",
          "data": {
            "text/html": [
              "<iframe src=\"about:blank\" width=\"750\" height=\"550\"style=\"border:none !important;\" data-html=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 onload=\"this.contentDocument.open();this.contentDocument.write(atob(this.getAttribute('data-html')));this.contentDocument.close();\" \"allowfullscreen\" \"webkitallowfullscreen\" \"mozallowfullscreen\"></iframe>"
            ],
            "text/plain": [
              "<branca.element.Figure at 0x7ffaaef20f28>"
            ]
          },
          "metadata": {
            "tags": []
          },
          "execution_count": 19
        }
      ]
    },
    {
      "cell_type": "markdown",
      "metadata": {
        "id": "gza5d6n46fc6"
      },
      "source": [
        "Now, what is a feature group? A feature group is something where we can put things and treat them as a single layer. It can be created using the folium.FeatureGroup() class. We’ll put our paths in these feature groups.\n",
        "\n",
        "Next, I’ll draw paths of vehicles and add them to the feature groups. For this, I’ll use the PolyLine class from the vector_layers of Folium. The vector_layers wraps Polyline, Polygon, Rectangle, Circle, and CircleMarker features of Leaflet.js which are used for creating different shapes on the map.\n",
        "\n",
        "The Polyline class is used for creating polyline overlays on the map and we’ll do the same with it. It takes the array of latitudes and longitudes, popup, tooltip, color, and weight as arguments and draws a polyline on the map.\n",
        "\n",
        "Weight determines how thick or thin the polyline will be. There are also other arguments related to plotting a path and you can read about them [here](https://python-visualization.github.io/folium/modules.html#folium.vector_layers.path_options).\n",
        "\n"
      ]
    },
    {
      "cell_type": "code",
      "metadata": {
        "id": "6mtZOWZB6jtg"
      },
      "source": [
        "# Creating feature groups\n",
        "f1=folium.FeatureGroup(\"Vehicle 1\")\n",
        "f2=folium.FeatureGroup(\"Vehicle 2\")\n",
        "f3=folium.FeatureGroup(\"Vehicle 3\")\n",
        "\n",
        "# Adding lines to the different feature groups\n",
        "line_1=folium.vector_layers.PolyLine(coords_1,popup='<b>Path of Vehicle_1</b>',tooltip='Vehicle_1',color='blue',weight=10).add_to(f1)\n",
        "line_2=folium.vector_layers.PolyLine(coords_2,popup='<b>Path of Vehicle_2</b>',tooltip='Vehicle_2',color='red',weight=10).add_to(f2)\n",
        "line_3=folium.vector_layers.PolyLine(coords_3,popup='<b>Path of Vehicle_3</b>',tooltip='Vehicle_3',color='green',weight=10).add_to(f3)\n"
      ],
      "execution_count": 22,
      "outputs": []
    },
    {
      "cell_type": "markdown",
      "metadata": {
        "id": "e9feWIK76qvq"
      },
      "source": [
        "Next, we’ll add these feature groups to our base map and we’ll also add layer control for controlling the layers:"
      ]
    },
    {
      "cell_type": "code",
      "metadata": {
        "id": "QHwOFrRM6rbS",
        "outputId": "c2c0fe04-c1e5-4370-be6a-ad351cd8168d",
        "colab": {
          "base_uri": "https://localhost:8080/",
          "height": 571
        }
      },
      "source": [
        "f1.add_to(m5)\n",
        "f2.add_to(m5)\n",
        "f3.add_to(m5)\n",
        "folium.LayerControl().add_to(m5)\n",
        "m5"
      ],
      "execution_count": 23,
      "outputs": [
        {
          "output_type": "execute_result",
          "data": {
            "text/html": [
              "<iframe src=\"about:blank\" width=\"750\" height=\"550\"style=\"border:none !important;\" data-html=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 onload=\"this.contentDocument.open();this.contentDocument.write(atob(this.getAttribute('data-html')));this.contentDocument.close();\" \"allowfullscreen\" \"webkitallowfullscreen\" \"mozallowfullscreen\"></iframe>"
            ],
            "text/plain": [
              "<folium.folium.Map at 0x7ffaaef20f98>"
            ]
          },
          "metadata": {
            "tags": []
          },
          "execution_count": 23
        }
      ]
    },
    {
      "cell_type": "markdown",
      "metadata": {
        "id": "Tqsm-D6m6wxf"
      },
      "source": [
        "We can clearly see the path of all three vehicles. \n",
        "\n",
        "Notice on the top-right corner we have the layer control option through which we can switch between different layers. \n",
        "\n",
        "We can see the information about each path by clicking on it. \n",
        "\n",
        "You can also try other functions of the vector_layers and create different overlays on maps."
      ]
    },
    {
      "cell_type": "markdown",
      "metadata": {
        "id": "K_wIaO2g67J6"
      },
      "source": [
        "# **Plugins in Folium**\n",
        "Folium’s plugins wrap some of the most popular Leaflet.js external plugins. These plugins make Folium very powerful. There are so many plugins for Folium like AntPath, MeasureControl, and Draw which make mapping a piece of cake.\n",
        "\n",
        "\n",
        "\n",
        "[Folium’s plugins](https://python-visualization.github.io/folium/plugins.html#module-folium.plugins)\n"
      ]
    }
  ]
}